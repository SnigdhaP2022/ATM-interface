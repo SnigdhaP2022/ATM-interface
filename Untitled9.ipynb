{
  "nbformat": 4,
  "nbformat_minor": 0,
  "metadata": {
    "colab": {
      "provenance": [],
      "authorship_tag": "ABX9TyPq/lymF7FpYn25vWVQkyE/",
      "include_colab_link": true
    },
    "kernelspec": {
      "name": "python3",
      "display_name": "Python 3"
    },
    "language_info": {
      "name": "python"
    }
  },
  "cells": [
    {
      "cell_type": "markdown",
      "metadata": {
        "id": "view-in-github",
        "colab_type": "text"
      },
      "source": [
        "<a href=\"https://colab.research.google.com/github/SnigdhaP2022/ATM-interface/blob/main/Untitled9.ipynb\" target=\"_parent\"><img src=\"https://colab.research.google.com/assets/colab-badge.svg\" alt=\"Open In Colab\"/></a>"
      ]
    },
    {
      "cell_type": "markdown",
      "source": [
        "--- Introduction ---\n",
        "\"\"\" This Jupyter Notebook implements an image classification system for the Rock-Paper-Scissors dataset. It covers data exploration, preparation, model building (both custom ConvNet and pre-trained), training, evaluation, and deployment to a webcam for real-time classification. \"\"\""
      ],
      "metadata": {
        "id": "kvCQ6RTpRHfP"
      }
    }
  ]
}